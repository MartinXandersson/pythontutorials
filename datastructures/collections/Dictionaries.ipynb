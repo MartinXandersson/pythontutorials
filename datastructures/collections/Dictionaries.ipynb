{
 "cells": [
  {
   "cell_type": "code",
   "execution_count": 68,
   "metadata": {},
   "outputs": [],
   "source": [
    "# how to work with 'collections'. Unordered, changeable, and indexed\n",
    "# keys and values"
   ]
  },
  {
   "cell_type": "code",
   "execution_count": 69,
   "metadata": {},
   "outputs": [],
   "source": [
    "myfirstdict = {}"
   ]
  },
  {
   "cell_type": "code",
   "execution_count": 70,
   "metadata": {},
   "outputs": [
    {
     "name": "stdout",
     "output_type": "stream",
     "text": [
      "{}\n"
     ]
    }
   ],
   "source": [
    "print(myfirstdict)"
   ]
  },
  {
   "cell_type": "code",
   "execution_count": 71,
   "metadata": {},
   "outputs": [
    {
     "name": "stdout",
     "output_type": "stream",
     "text": [
      "{'aardvark': 'medium-sized, burrowing, covturnal mammal'}\n"
     ]
    }
   ],
   "source": [
    "myfirstdict['aardvark'] = \"medium-sized, burrowing, covturnal mammal\"\n",
    "print(myfirstdict)"
   ]
  },
  {
   "cell_type": "code",
   "execution_count": 72,
   "metadata": {},
   "outputs": [
    {
     "name": "stdout",
     "output_type": "stream",
     "text": [
      "medium-sized, burrowing, covturnal mammal\n"
     ]
    }
   ],
   "source": [
    "print(myfirstdict['aardvark'])"
   ]
  },
  {
   "cell_type": "code",
   "execution_count": 73,
   "metadata": {},
   "outputs": [
    {
     "name": "stdout",
     "output_type": "stream",
     "text": [
      "joe blogs\n"
     ]
    }
   ],
   "source": [
    "myfirstdict['name'] = \"joe blogs\"\n",
    "print(myfirstdict['name'])"
   ]
  },
  {
   "cell_type": "code",
   "execution_count": 74,
   "metadata": {},
   "outputs": [],
   "source": [
    "# how to use dict with 'for loops'"
   ]
  },
  {
   "cell_type": "code",
   "execution_count": 75,
   "metadata": {},
   "outputs": [
    {
     "name": "stdout",
     "output_type": "stream",
     "text": [
      "aardvark:medium-sized, burrowing, covturnal mammal\n",
      "name:joe blogs\n"
     ]
    }
   ],
   "source": [
    "for key, value in myfirstdict.items():\n",
    "    print(str(key) + \":\" + str(value))"
   ]
  },
  {
   "cell_type": "code",
   "execution_count": 76,
   "metadata": {},
   "outputs": [
    {
     "name": "stdout",
     "output_type": "stream",
     "text": [
      "medium-sized, burrowing, covturnal mammal\n",
      "joe blogs\n"
     ]
    }
   ],
   "source": [
    "for key in myfirstdict:\n",
    "    print(myfirstdict[key])"
   ]
  },
  {
   "cell_type": "code",
   "execution_count": 77,
   "metadata": {},
   "outputs": [
    {
     "name": "stdout",
     "output_type": "stream",
     "text": [
      "Yes\n"
     ]
    }
   ],
   "source": [
    "if \"name\" in myfirstdict:\n",
    "    print(\"Yes\")"
   ]
  },
  {
   "cell_type": "code",
   "execution_count": 78,
   "metadata": {},
   "outputs": [
    {
     "name": "stdout",
     "output_type": "stream",
     "text": [
      "2\n"
     ]
    }
   ],
   "source": [
    "print(len(myfirstdict))"
   ]
  },
  {
   "cell_type": "code",
   "execution_count": 79,
   "metadata": {},
   "outputs": [
    {
     "name": "stdout",
     "output_type": "stream",
     "text": [
      "joe blogs\n",
      "{'aardvark': 'medium-sized, burrowing, covturnal mammal'}\n"
     ]
    }
   ],
   "source": [
    "# removing elements in the dict\n",
    "\n",
    "pop_item = myfirstdict.pop(\"name\")\n",
    "print(pop_item)\n",
    "print(myfirstdict)"
   ]
  },
  {
   "cell_type": "code",
   "execution_count": 80,
   "metadata": {},
   "outputs": [
    {
     "name": "stdout",
     "output_type": "stream",
     "text": [
      "{'aardvark': 'medium-sized, burrowing, covturnal mammal', 'name': 'joan blogs', 'favefood': 'chips'}\n"
     ]
    }
   ],
   "source": [
    "# adding a new element\n",
    "\n",
    "myfirstdict['name'] = \"joan blogs\"\n",
    "myfirstdict['favefood'] = \"chips\"\n",
    "print(myfirstdict)"
   ]
  },
  {
   "cell_type": "code",
   "execution_count": 81,
   "metadata": {},
   "outputs": [
    {
     "name": "stdout",
     "output_type": "stream",
     "text": [
      "YES\n"
     ]
    }
   ],
   "source": [
    "if \"favefood\" in myfirstdict:\n",
    "    print(\"YES\")"
   ]
  },
  {
   "cell_type": "code",
   "execution_count": 82,
   "metadata": {},
   "outputs": [
    {
     "name": "stdout",
     "output_type": "stream",
     "text": [
      "('favefood', 'chips')\n",
      "<class 'tuple'>\n",
      "{'aardvark': 'medium-sized, burrowing, covturnal mammal', 'name': 'joan blogs'}\n"
     ]
    }
   ],
   "source": [
    "pop_item = myfirstdict.popitem()\n",
    "print(pop_item)\n",
    "print(type(pop_item))\n",
    "print(myfirstdict)"
   ]
  },
  {
   "cell_type": "code",
   "execution_count": 83,
   "metadata": {},
   "outputs": [],
   "source": [
    "# how to clear a dict and how to delete it completely\n",
    "\n",
    "myseconddict = myfirstdict.copy()\n",
    "\n",
    "myfirstdict.clear()\n",
    "print(myfirstdict)"
   ]
  },
  {
   "cell_type": "code",
   "execution_count": 84,
   "metadata": {},
   "outputs": [],
   "source": [
    "# del myfirstdict\n",
    "# print(myfirstdict)  # does not exist anymore"
   ]
  },
  {
   "cell_type": "code",
   "execution_count": 86,
   "metadata": {},
   "outputs": [
    {
     "name": "stdout",
     "output_type": "stream",
     "text": [
      "{'aardvark': 'medium-sized, burrowing, covturnal mammal', 'name': 'joan blogs'}\n"
     ]
    }
   ],
   "source": [
    "print(myseconddict)"
   ]
  },
  {
   "cell_type": "code",
   "execution_count": null,
   "metadata": {},
   "outputs": [],
   "source": []
  }
 ],
 "metadata": {
  "kernelspec": {
   "display_name": "Python 3",
   "language": "python",
   "name": "python3"
  },
  "language_info": {
   "codemirror_mode": {
    "name": "ipython",
    "version": 3
   },
   "file_extension": ".py",
   "mimetype": "text/x-python",
   "name": "python",
   "nbconvert_exporter": "python",
   "pygments_lexer": "ipython3",
   "version": "3.8.2"
  }
 },
 "nbformat": 4,
 "nbformat_minor": 4
}
