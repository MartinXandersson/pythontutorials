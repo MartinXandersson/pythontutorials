{
 "cells": [
  {
   "cell_type": "code",
   "execution_count": 1,
   "metadata": {},
   "outputs": [],
   "source": [
    "# how to work with lists"
   ]
  },
  {
   "cell_type": "code",
   "execution_count": 2,
   "metadata": {},
   "outputs": [
    {
     "name": "stdout",
     "output_type": "stream",
     "text": [
      "[]\n"
     ]
    }
   ],
   "source": [
    "list_of_ints = []\n",
    "print(list_of_ints)"
   ]
  },
  {
   "cell_type": "code",
   "execution_count": 4,
   "metadata": {},
   "outputs": [
    {
     "name": "stdout",
     "output_type": "stream",
     "text": [
      "[1, 2, 3]\n"
     ]
    }
   ],
   "source": [
    "list_of_ints = [1, 2, 3]\n",
    "print(list_of_ints)"
   ]
  },
  {
   "cell_type": "code",
   "execution_count": 5,
   "metadata": {},
   "outputs": [
    {
     "name": "stdout",
     "output_type": "stream",
     "text": [
      "[1, 2, 3, 4]\n"
     ]
    }
   ],
   "source": [
    "list_of_ints.append(4)\n",
    "print(list_of_ints)"
   ]
  },
  {
   "cell_type": "code",
   "execution_count": 6,
   "metadata": {},
   "outputs": [
    {
     "name": "stdout",
     "output_type": "stream",
     "text": [
      "4\n"
     ]
    }
   ],
   "source": [
    "length_of_list_of_ints = len(list_of_ints)\n",
    "print(len(list_of_ints))"
   ]
  },
  {
   "cell_type": "code",
   "execution_count": 7,
   "metadata": {},
   "outputs": [
    {
     "name": "stdout",
     "output_type": "stream",
     "text": [
      "1\n"
     ]
    }
   ],
   "source": [
    "print(list_of_ints[0])"
   ]
  },
  {
   "cell_type": "code",
   "execution_count": 8,
   "metadata": {},
   "outputs": [
    {
     "name": "stdout",
     "output_type": "stream",
     "text": [
      "4\n"
     ]
    }
   ],
   "source": [
    "print(list_of_ints[3])"
   ]
  },
  {
   "cell_type": "code",
   "execution_count": 10,
   "metadata": {},
   "outputs": [
    {
     "name": "stdout",
     "output_type": "stream",
     "text": [
      "4\n"
     ]
    }
   ],
   "source": [
    "print(list_of_ints[length_of_list_of_ints-1])"
   ]
  },
  {
   "cell_type": "code",
   "execution_count": 11,
   "metadata": {},
   "outputs": [
    {
     "name": "stdout",
     "output_type": "stream",
     "text": [
      "4\n"
     ]
    }
   ],
   "source": [
    "print(list_of_ints[-1])"
   ]
  },
  {
   "cell_type": "code",
   "execution_count": 12,
   "metadata": {},
   "outputs": [
    {
     "name": "stdout",
     "output_type": "stream",
     "text": [
      "[1, 2, 3, 4]\n"
     ]
    }
   ],
   "source": [
    "print(list_of_ints)"
   ]
  },
  {
   "cell_type": "code",
   "execution_count": 14,
   "metadata": {},
   "outputs": [
    {
     "name": "stdout",
     "output_type": "stream",
     "text": [
      "1\n"
     ]
    }
   ],
   "source": [
    "print(list_of_ints[-4])"
   ]
  },
  {
   "cell_type": "code",
   "execution_count": 15,
   "metadata": {},
   "outputs": [
    {
     "name": "stdout",
     "output_type": "stream",
     "text": [
      "['hello', 1, 1, 2, True]\n"
     ]
    }
   ],
   "source": [
    "my_mixed_list = [\"hello\", 1, 1, 2, True]\n",
    "print(my_mixed_list)"
   ]
  },
  {
   "cell_type": "code",
   "execution_count": 19,
   "metadata": {},
   "outputs": [
    {
     "name": "stdout",
     "output_type": "stream",
     "text": [
      "['Paracetamol', 'Asprin', 'Ibuprofin']\n"
     ]
    }
   ],
   "source": [
    "shopping_list = []\n",
    "shopping_list.append(\"Paracetamol\")\n",
    "shopping_list.append(\"Asprin\")\n",
    "shopping_list.append(\"Ibuprofin\")\n",
    "print(shopping_list)"
   ]
  },
  {
   "cell_type": "code",
   "execution_count": 20,
   "metadata": {},
   "outputs": [
    {
     "name": "stdout",
     "output_type": "stream",
     "text": [
      "['Penecillin', 'Codine']\n"
     ]
    }
   ],
   "source": [
    "shopping_list2 = [\"Penecillin\", \"Codine\"]\n",
    "print(shopping_list2)"
   ]
  },
  {
   "cell_type": "code",
   "execution_count": 21,
   "metadata": {},
   "outputs": [],
   "source": [
    "shopping_list3 = shopping_list + shopping_list2"
   ]
  },
  {
   "cell_type": "code",
   "execution_count": 22,
   "metadata": {},
   "outputs": [
    {
     "name": "stdout",
     "output_type": "stream",
     "text": [
      "['Paracetamol', 'Asprin', 'Ibuprofin', 'Penecillin', 'Codine']\n"
     ]
    }
   ],
   "source": [
    "print(shopping_list3)"
   ]
  },
  {
   "cell_type": "code",
   "execution_count": 23,
   "metadata": {},
   "outputs": [
    {
     "name": "stdout",
     "output_type": "stream",
     "text": [
      "['Asprin', 'Ibuprofin']\n"
     ]
    }
   ],
   "source": [
    "print(shopping_list3[1:3])"
   ]
  },
  {
   "cell_type": "code",
   "execution_count": 25,
   "metadata": {},
   "outputs": [
    {
     "name": "stdout",
     "output_type": "stream",
     "text": [
      "['Ibuprofin', 'Penecillin', 'Codine']\n"
     ]
    }
   ],
   "source": [
    "print(shopping_list3[2:])"
   ]
  },
  {
   "cell_type": "code",
   "execution_count": 26,
   "metadata": {},
   "outputs": [
    {
     "name": "stdout",
     "output_type": "stream",
     "text": [
      "['Ibuprofin', 'Penecillin']\n"
     ]
    }
   ],
   "source": [
    "print(shopping_list3[-3:-1])"
   ]
  },
  {
   "cell_type": "code",
   "execution_count": 27,
   "metadata": {},
   "outputs": [
    {
     "name": "stdout",
     "output_type": "stream",
     "text": [
      "['Paracetamol', 'Asprin', 'Ibuprofin', 'Penecillin', 'Codine']\n"
     ]
    }
   ],
   "source": [
    "print(shopping_list3)"
   ]
  },
  {
   "cell_type": "code",
   "execution_count": 28,
   "metadata": {},
   "outputs": [
    {
     "name": "stdout",
     "output_type": "stream",
     "text": [
      "['Alcohol', 'Asprin', 'Ibuprofin', 'Penecillin', 'Codine']\n"
     ]
    }
   ],
   "source": [
    "shopping_list3[0] = 'Alcohol'\n",
    "print(shopping_list3)"
   ]
  },
  {
   "cell_type": "code",
   "execution_count": 30,
   "metadata": {},
   "outputs": [
    {
     "name": "stdout",
     "output_type": "stream",
     "text": [
      "['Asprin', 'Ibuprofin', 'Penecillin', 'Codine']\n"
     ]
    }
   ],
   "source": [
    "shopping_list3.remove('Alcohol')\n",
    "print(shopping_list3)"
   ]
  },
  {
   "cell_type": "code",
   "execution_count": 33,
   "metadata": {},
   "outputs": [
    {
     "name": "stdout",
     "output_type": "stream",
     "text": [
      "['Ibuprofin', 'Penecillin', 'Codine']\n"
     ]
    }
   ],
   "source": [
    "if 'Asprin' in shopping_list3:\n",
    "    print(\"It was in the list, but it has been removed\")\n",
    "    shopping_list3.remove('Asprin')\n",
    "print(shopping_list3)"
   ]
  },
  {
   "cell_type": "code",
   "execution_count": 35,
   "metadata": {},
   "outputs": [],
   "source": [
    "del shopping_list3[2]"
   ]
  },
  {
   "cell_type": "code",
   "execution_count": 36,
   "metadata": {},
   "outputs": [
    {
     "name": "stdout",
     "output_type": "stream",
     "text": [
      "['Ibuprofin', 'Penecillin']\n"
     ]
    }
   ],
   "source": [
    "print(shopping_list3)"
   ]
  },
  {
   "cell_type": "code",
   "execution_count": 38,
   "metadata": {},
   "outputs": [
    {
     "name": "stdout",
     "output_type": "stream",
     "text": [
      "['Ibuprofin', 'Penecillin']\n",
      "['Ibuprofin', 'Penecillin']\n"
     ]
    }
   ],
   "source": [
    "# how to copy lists (IMPORTANT)\n",
    "\n",
    "shopping_list3_copy = shopping_list3.copy()\n",
    "print(shopping_list3_copy)\n",
    "print(shopping_list3)"
   ]
  },
  {
   "cell_type": "code",
   "execution_count": 39,
   "metadata": {},
   "outputs": [],
   "source": [
    "shopping_list4 = shopping_list3"
   ]
  },
  {
   "cell_type": "code",
   "execution_count": 40,
   "metadata": {},
   "outputs": [
    {
     "name": "stdout",
     "output_type": "stream",
     "text": [
      "['Ibuprofin', 'Penecillin']\n"
     ]
    }
   ],
   "source": [
    "print(shopping_list4)"
   ]
  },
  {
   "cell_type": "code",
   "execution_count": 41,
   "metadata": {},
   "outputs": [
    {
     "name": "stdout",
     "output_type": "stream",
     "text": [
      "['Ibuprofin', 'Penecillin', 1, 2, 3]\n"
     ]
    }
   ],
   "source": [
    "# .extend will extend the list with the supplied list, or the items you provide\n",
    "\n",
    "# .append will append a the entire objective within the list \n",
    "\n",
    "shopping_list4.extend([1, 2, 3])\n",
    "print(shopping_list4)"
   ]
  },
  {
   "cell_type": "code",
   "execution_count": 42,
   "metadata": {},
   "outputs": [
    {
     "name": "stdout",
     "output_type": "stream",
     "text": [
      "['Ibuprofin', 'Penecillin', 1, 2, 3, 1, [2, 3], 4]\n"
     ]
    }
   ],
   "source": [
    "shopping_list4.extend([1,[2,3],4])\n",
    "print(shopping_list4)"
   ]
  },
  {
   "cell_type": "code",
   "execution_count": 43,
   "metadata": {},
   "outputs": [
    {
     "name": "stdout",
     "output_type": "stream",
     "text": [
      "['Ibuprofin', 'Penecillin', 1, 2, 3, 1, [2, 3]]\n"
     ]
    }
   ],
   "source": [
    "shopping_list4.pop()\n",
    "print(shopping_list4)"
   ]
  },
  {
   "cell_type": "code",
   "execution_count": 45,
   "metadata": {},
   "outputs": [
    {
     "name": "stdout",
     "output_type": "stream",
     "text": [
      "['Penecillin', 1, 2, 3, 1, [2, 3]]\n"
     ]
    }
   ],
   "source": [
    "shopping_list4.pop(0)\n",
    "print(shopping_list4)"
   ]
  },
  {
   "cell_type": "code",
   "execution_count": null,
   "metadata": {},
   "outputs": [],
   "source": []
  }
 ],
 "metadata": {
  "kernelspec": {
   "display_name": "Python 3",
   "language": "python",
   "name": "python3"
  },
  "language_info": {
   "codemirror_mode": {
    "name": "ipython",
    "version": 3
   },
   "file_extension": ".py",
   "mimetype": "text/x-python",
   "name": "python",
   "nbconvert_exporter": "python",
   "pygments_lexer": "ipython3",
   "version": "3.8.2"
  }
 },
 "nbformat": 4,
 "nbformat_minor": 4
}
