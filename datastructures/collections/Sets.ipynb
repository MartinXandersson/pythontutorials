{
 "cells": [
  {
   "cell_type": "code",
   "execution_count": null,
   "metadata": {},
   "outputs": [],
   "source": [
    "# how to work with 'sets'. Collection of elements (str, int etc)"
   ]
  },
  {
   "cell_type": "code",
   "execution_count": null,
   "metadata": {},
   "outputs": [],
   "source": [
    "# they are unordered and unindexed. They use {}"
   ]
  },
  {
   "cell_type": "code",
   "execution_count": null,
   "metadata": {},
   "outputs": [],
   "source": [
    "myfirstset = {\"hall1\", \"hall2\", \"hall3\"}\n",
    "print(myfirstset)"
   ]
  },
  {
   "cell_type": "code",
   "execution_count": null,
   "metadata": {},
   "outputs": [],
   "source": [
    "if 'hall3' in myfirstset:\n",
    "    print(\"yes\")"
   ]
  },
  {
   "cell_type": "code",
   "execution_count": null,
   "metadata": {},
   "outputs": [],
   "source": [
    "myfirstset.add(\"hall4\")\n",
    "print(myfirstset)"
   ]
  },
  {
   "cell_type": "code",
   "execution_count": null,
   "metadata": {},
   "outputs": [],
   "source": [
    "# pop removes the first item in the set. The order is however random\n",
    "\n",
    "dataitem = myfirstset.pop()\n",
    "print(dataitem)"
   ]
  },
  {
   "cell_type": "code",
   "execution_count": null,
   "metadata": {},
   "outputs": [],
   "source": [
    "# add multiple items with the '.update'\n",
    "\n",
    "myfirstset.update([\"hall5\", \"hall6\"])\n",
    "print(myfirstset)"
   ]
  },
  {
   "cell_type": "code",
   "execution_count": null,
   "metadata": {},
   "outputs": [],
   "source": [
    "mysetlength = len(myfirstset)\n",
    "print(mysetlength)"
   ]
  },
  {
   "cell_type": "code",
   "execution_count": null,
   "metadata": {},
   "outputs": [],
   "source": [
    "myfirstset.remove(\"hall6\")\n",
    "print(myfirstset)"
   ]
  },
  {
   "cell_type": "code",
   "execution_count": null,
   "metadata": {},
   "outputs": [],
   "source": [
    "# remove an item without an error message. Like \"no such item in the set\"\n",
    "\n",
    "myfirstset.discard(\"hall6\")"
   ]
  },
  {
   "cell_type": "code",
   "execution_count": null,
   "metadata": {},
   "outputs": [],
   "source": [
    "myfirstset.clear()\n",
    "print(myfirstset)"
   ]
  },
  {
   "cell_type": "code",
   "execution_count": null,
   "metadata": {},
   "outputs": [],
   "source": [
    "del myfirstset"
   ]
  },
  {
   "cell_type": "code",
   "execution_count": null,
   "metadata": {},
   "outputs": [],
   "source": [
    "# to join sets together, use 'union'\n",
    "\n",
    "set1 = {2, 4, 6}\n",
    "set2 = {1, 3, 5}\n",
    "set3 = set1.union(set2)\n",
    "print(set3)"
   ]
  },
  {
   "cell_type": "code",
   "execution_count": null,
   "metadata": {},
   "outputs": [],
   "source": [
    "# how to find the overlap, the 'intersection'\n",
    "\n",
    "setA = {1, 2, 3, 4, 5}\n",
    "setB = {3, 4, 5, 6, 7, 8}\n",
    "setC = setA.intersection(setB)\n",
    "print(setC)"
   ]
  },
  {
   "cell_type": "code",
   "execution_count": null,
   "metadata": {},
   "outputs": [],
   "source": [
    "# how to remove duplicates from 'Lists' by using 'Sets'\n",
    "\n",
    "mylist = [\"apple\", \"beer\", \"powercut\", \"powercut\"]\n",
    "mylist_set = set(mylist)\n",
    "print(mylist_set)"
   ]
  },
  {
   "cell_type": "code",
   "execution_count": null,
   "metadata": {},
   "outputs": [],
   "source": [
    "mylist = list(mylist_set)\n",
    "print(mylist)"
   ]
  },
  {
   "cell_type": "code",
   "execution_count": null,
   "metadata": {},
   "outputs": [],
   "source": [
    "# how to copy a set\n",
    "\n",
    "mylist_set_acopy = mylist_set.copy()\n",
    "print(mylist_set_acopy)"
   ]
  },
  {
   "cell_type": "code",
   "execution_count": null,
   "metadata": {},
   "outputs": [],
   "source": [
    "print(mylist_set)\n",
    "print(mylist_set_acopy)"
   ]
  },
  {
   "cell_type": "code",
   "execution_count": null,
   "metadata": {},
   "outputs": [],
   "source": []
  }
 ],
 "metadata": {
  "kernelspec": {
   "display_name": "Python 3",
   "language": "python",
   "name": "python3"
  },
  "language_info": {
   "codemirror_mode": {
    "name": "ipython",
    "version": 3
   },
   "file_extension": ".py",
   "mimetype": "text/x-python",
   "name": "python",
   "nbconvert_exporter": "python",
   "pygments_lexer": "ipython3",
   "version": "3.8.2"
  }
 },
 "nbformat": 4,
 "nbformat_minor": 4
}
