{
 "cells": [
  {
   "cell_type": "code",
   "execution_count": 1,
   "metadata": {},
   "outputs": [],
   "source": [
    "# how to work with 'tuples'. It is a collection that is ordered but unchangable\n",
    "# allows duplicates . it is a list that you can change"
   ]
  },
  {
   "cell_type": "code",
   "execution_count": 4,
   "metadata": {},
   "outputs": [
    {
     "name": "stdout",
     "output_type": "stream",
     "text": [
      "('vanilla', 'starch', 'red_colouring')\n"
     ]
    }
   ],
   "source": [
    "myfirsttuple = (\"vanilla\", \"starch\", \"red_colouring\")\n",
    "print(myfirsttuple)"
   ]
  },
  {
   "cell_type": "code",
   "execution_count": 5,
   "metadata": {},
   "outputs": [
    {
     "name": "stdout",
     "output_type": "stream",
     "text": [
      "vanilla\n"
     ]
    }
   ],
   "source": [
    "print(myfirsttuple[0])"
   ]
  },
  {
   "cell_type": "code",
   "execution_count": 6,
   "metadata": {},
   "outputs": [
    {
     "name": "stdout",
     "output_type": "stream",
     "text": [
      "('starch',)\n"
     ]
    }
   ],
   "source": [
    "print(myfirsttuple[1:2])"
   ]
  },
  {
   "cell_type": "code",
   "execution_count": 7,
   "metadata": {},
   "outputs": [
    {
     "name": "stdout",
     "output_type": "stream",
     "text": [
      "('starch', 'red_colouring')\n"
     ]
    }
   ],
   "source": [
    "print(myfirsttuple[1:3])"
   ]
  },
  {
   "cell_type": "code",
   "execution_count": 8,
   "metadata": {},
   "outputs": [],
   "source": [
    "# casting"
   ]
  },
  {
   "cell_type": "code",
   "execution_count": 9,
   "metadata": {},
   "outputs": [
    {
     "name": "stdout",
     "output_type": "stream",
     "text": [
      "['vanilla', 'starch', 'red_colouring']\n"
     ]
    }
   ],
   "source": [
    "list_myfirsttuple = list(myfirsttuple)\n",
    "print(list_myfirsttuple)"
   ]
  },
  {
   "cell_type": "code",
   "execution_count": 11,
   "metadata": {},
   "outputs": [
    {
     "name": "stdout",
     "output_type": "stream",
     "text": [
      "['vanilla', 'starch', 'red_colouring', 'blue_colouring']\n"
     ]
    }
   ],
   "source": [
    "list_myfirsttuple.append(\"blue_colouring\")\n",
    "print(list_myfirsttuple)"
   ]
  },
  {
   "cell_type": "code",
   "execution_count": 13,
   "metadata": {},
   "outputs": [
    {
     "name": "stdout",
     "output_type": "stream",
     "text": [
      "('vanilla', 'starch', 'red_colouring', 'blue_colouring')\n"
     ]
    }
   ],
   "source": [
    "mysecondtuple = tuple(list_myfirsttuple)\n",
    "print(mysecondtuple)"
   ]
  },
  {
   "cell_type": "code",
   "execution_count": 14,
   "metadata": {},
   "outputs": [
    {
     "name": "stdout",
     "output_type": "stream",
     "text": [
      "4\n"
     ]
    }
   ],
   "source": [
    "print(len(mysecondtuple))"
   ]
  },
  {
   "cell_type": "code",
   "execution_count": 17,
   "metadata": {},
   "outputs": [
    {
     "name": "stdout",
     "output_type": "stream",
     "text": [
      "yes\n"
     ]
    }
   ],
   "source": [
    "if 'starch' in mysecondtuple:\n",
    "    print(\"yes\")"
   ]
  },
  {
   "cell_type": "code",
   "execution_count": 20,
   "metadata": {},
   "outputs": [
    {
     "name": "stdout",
     "output_type": "stream",
     "text": [
      "('vanilla', 'starch', 'red_colouring', 'blue_colouring', 'vanilla', 'starch', 'red_colouring', 'blue_colouring')\n"
     ]
    }
   ],
   "source": [
    "mythirdtuple = mysecondtuple + mysecondtuple\n",
    "print(mythirdtuple)"
   ]
  },
  {
   "cell_type": "code",
   "execution_count": null,
   "metadata": {},
   "outputs": [],
   "source": []
  }
 ],
 "metadata": {
  "kernelspec": {
   "display_name": "Python 3",
   "language": "python",
   "name": "python3"
  },
  "language_info": {
   "codemirror_mode": {
    "name": "ipython",
    "version": 3
   },
   "file_extension": ".py",
   "mimetype": "text/x-python",
   "name": "python",
   "nbconvert_exporter": "python",
   "pygments_lexer": "ipython3",
   "version": "3.8.2"
  }
 },
 "nbformat": 4,
 "nbformat_minor": 4
}
