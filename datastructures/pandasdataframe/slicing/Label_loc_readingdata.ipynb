{
 "cells": [
  {
   "cell_type": "code",
   "execution_count": null,
   "metadata": {},
   "outputs": [],
   "source": [
    "# READING DATA\n",
    "# Sclicing with loc - label based slicing\n",
    "# loc - is used to access a group of rows and columns by labels or booleans\n",
    "# dataframe slicing is different. It includes start and stop locations"
   ]
  },
  {
   "cell_type": "code",
   "execution_count": null,
   "metadata": {},
   "outputs": [],
   "source": [
    "import pandas as pd"
   ]
  },
  {
   "cell_type": "code",
   "execution_count": null,
   "metadata": {},
   "outputs": [],
   "source": [
    "df=pd.DataFrame([[1,2],[3,4],[5,6]],index=['Alice','Bob','Carlos'],columns=['Apple','Pears'])\n",
    "display(df)"
   ]
  },
  {
   "cell_type": "code",
   "execution_count": null,
   "metadata": {},
   "outputs": [],
   "source": [
    "# Single lable, single columns are returned as series\n",
    "\n",
    "alice_series=df.loc['Alice']\n",
    "print(alice_series)\n",
    "print(type(alice_series))"
   ]
  },
  {
   "cell_type": "code",
   "execution_count": null,
   "metadata": {},
   "outputs": [],
   "source": [
    "# Multi label, select\n",
    "# Note, the colon means return all acolumns, if you leave out the colon it will return all anyway\n",
    "\n",
    "df2=df.loc[['Alice','Bob'],:]\n",
    "display(df2)\n",
    "print(type(df2))"
   ]
  },
  {
   "cell_type": "code",
   "execution_count": null,
   "metadata": {},
   "outputs": [],
   "source": [
    "# X, Y cell reference\n",
    "\n",
    "cell=df.loc['Alice','Apple']\n",
    "display(cell)\n",
    "print(type(cell))"
   ]
  },
  {
   "cell_type": "code",
   "execution_count": null,
   "metadata": {},
   "outputs": [],
   "source": [
    "df4=df.loc['Alice':'Carlos','Apples':'Pears']\n",
    "display(df4)\n",
    "print(type(df4))"
   ]
  },
  {
   "cell_type": "code",
   "execution_count": null,
   "metadata": {},
   "outputs": [],
   "source": [
    "# Slicing with booleans\n",
    "# Will display only rows to True\n",
    "\n",
    "df5=df.loc[[False,True,False],:]\n",
    "display(df)\n",
    "display(df5)"
   ]
  },
  {
   "cell_type": "code",
   "execution_count": null,
   "metadata": {},
   "outputs": [],
   "source": [
    "# Why even bother having boolean slicing\n",
    "\n",
    "logic_results=df['Apple']>1\n",
    "display(logic_results)\n",
    "print(type(logic_results))"
   ]
  },
  {
   "cell_type": "code",
   "execution_count": null,
   "metadata": {},
   "outputs": [],
   "source": [
    "df7=df.loc[logic_results,:]\n",
    "# df7=df.loc[[False,True,True],:]\n",
    "display(df7)"
   ]
  },
  {
   "cell_type": "code",
   "execution_count": null,
   "metadata": {},
   "outputs": [],
   "source": [
    "df8=df.loc[df['Apple']>1]\n",
    "display(df8)"
   ]
  },
  {
   "cell_type": "code",
   "execution_count": null,
   "metadata": {},
   "outputs": [],
   "source": [
    "##########################\n",
    "\n",
    "df_with_integer_labels=pd.DataFrame([[1,2],[3,4],[5,6]],index=['1','2','3'],columns=['Apple','Pears'])\n",
    "display(df)"
   ]
  },
  {
   "cell_type": "code",
   "execution_count": null,
   "metadata": {},
   "outputs": [],
   "source": [
    "# IMPORTANT - this isnt integer slicing, the labels happen to be numbers.\n",
    "# They are still string labels\n",
    "\n",
    "df_banana=df_with_integer_labels.loc[['1','3'],:]\n",
    "display(df_banana)\n",
    "print(type(df_banana))"
   ]
  },
  {
   "cell_type": "code",
   "execution_count": null,
   "metadata": {},
   "outputs": [],
   "source": []
  }
 ],
 "metadata": {
  "kernelspec": {
   "display_name": "Python 3",
   "language": "python",
   "name": "python3"
  },
  "language_info": {
   "codemirror_mode": {
    "name": "ipython",
    "version": 3
   },
   "file_extension": ".py",
   "mimetype": "text/x-python",
   "name": "python",
   "nbconvert_exporter": "python",
   "pygments_lexer": "ipython3",
   "version": "3.8.5"
  }
 },
 "nbformat": 4,
 "nbformat_minor": 4
}
