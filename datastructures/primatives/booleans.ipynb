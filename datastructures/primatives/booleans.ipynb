{
 "cells": [
  {
   "cell_type": "code",
   "execution_count": null,
   "metadata": {},
   "outputs": [],
   "source": [
    "#working with booleans (1/0)\n",
    "\n",
    "True_answer=True\n",
    "False_answer=False\n",
    "print(True_answer)\n",
    "print(False_answer)"
   ]
  },
  {
   "cell_type": "code",
   "execution_count": null,
   "metadata": {},
   "outputs": [],
   "source": [
    "#AND\n",
    "\n",
    "answer=True and True\n",
    "print(answer)\n",
    "answer=False and True\n",
    "print(answer)\n",
    "answer=True and False\n",
    "print(answer)\n",
    "answer=False and False\n",
    "print(answer)"
   ]
  },
  {
   "cell_type": "code",
   "execution_count": null,
   "metadata": {},
   "outputs": [],
   "source": [
    "#OR\n",
    "\n",
    "answer=False or False\n",
    "print(answer)\n",
    "answer=True or False\n",
    "print(answer)\n",
    "answer=False or True\n",
    "print(answer)\n",
    "answer=True or True\n",
    "print(answer)"
   ]
  },
  {
   "cell_type": "code",
   "execution_count": null,
   "metadata": {},
   "outputs": [],
   "source": [
    "I_Did_Some_Excerise=not True\n",
    "print(I_Did_Some_Excerise)"
   ]
  },
  {
   "cell_type": "code",
   "execution_count": null,
   "metadata": {},
   "outputs": [],
   "source": [
    "print(not(True and True))"
   ]
  },
  {
   "cell_type": "code",
   "execution_count": null,
   "metadata": {},
   "outputs": [],
   "source": []
  }
 ],
 "metadata": {
  "kernelspec": {
   "display_name": "Python 3",
   "language": "python",
   "name": "python3"
  },
  "language_info": {
   "codemirror_mode": {
    "name": "ipython",
    "version": 3
   },
   "file_extension": ".py",
   "mimetype": "text/x-python",
   "name": "python",
   "nbconvert_exporter": "python",
   "pygments_lexer": "ipython3",
   "version": "3.8.2"
  }
 },
 "nbformat": 4,
 "nbformat_minor": 4
}
