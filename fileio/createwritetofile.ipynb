{
 "cells": [
  {
   "cell_type": "code",
   "execution_count": null,
   "metadata": {},
   "outputs": [],
   "source": [
    "# creating and writing to file"
   ]
  },
  {
   "cell_type": "code",
   "execution_count": null,
   "metadata": {},
   "outputs": [],
   "source": [
    "import os"
   ]
  },
  {
   "cell_type": "code",
   "execution_count": null,
   "metadata": {},
   "outputs": [],
   "source": [
    "# create a file\n",
    "\n",
    "mydatadir=\"/home/zokitools/mydata/\"\n",
    "myfilename=\"mytextfile.txt\"\n",
    "\n",
    "myfilepath=mydatadir+myfilename\n",
    "print(myfilepath)"
   ]
  },
  {
   "cell_type": "code",
   "execution_count": null,
   "metadata": {},
   "outputs": [],
   "source": [
    "# to create an empty file, you can just open and close a name file\n",
    "# the 'if loop' will check if it already exists. X is used to not overwrite\n",
    "\n",
    "if(not os.path.exists(myfilepath)):\n",
    "    print(\"File doesn't exist, creating \"+str(myfilepath))\n",
    "    myfile = open(myfilepath,\"x\")\n",
    "    myfile.close()\n",
    "else:\n",
    "    print(\"File already exists\")"
   ]
  },
  {
   "cell_type": "code",
   "execution_count": null,
   "metadata": {},
   "outputs": [],
   "source": [
    "myfile = open(myfilepath, 'a')\n",
    "list_of_numbers = [1,2,3,4,5]\n",
    "\n",
    "for number in list_of_numbers:\n",
    "    line_to_write = \"This is line \"+str(number)+\"\\n\"\n",
    "    myfile.write(line_to_write)\n",
    "\n",
    "myfile.close()"
   ]
  },
  {
   "cell_type": "code",
   "execution_count": null,
   "metadata": {},
   "outputs": [],
   "source": [
    "# using switch 'w' will write all over your existing data. Coule be dangerous\n",
    "# remember to use a new line with '\\n'\n",
    "\n",
    "myfile = open(myfilepath,'w')\n",
    "myfile.write(\"All your data belongs to us.\\n\")\n",
    "myfile.close()"
   ]
  },
  {
   "cell_type": "code",
   "execution_count": null,
   "metadata": {},
   "outputs": [],
   "source": []
  }
 ],
 "metadata": {
  "kernelspec": {
   "display_name": "Python 3",
   "language": "python",
   "name": "python3"
  },
  "language_info": {
   "codemirror_mode": {
    "name": "ipython",
    "version": 3
   },
   "file_extension": ".py",
   "mimetype": "text/x-python",
   "name": "python",
   "nbconvert_exporter": "python",
   "pygments_lexer": "ipython3",
   "version": "3.8.2"
  }
 },
 "nbformat": 4,
 "nbformat_minor": 4
}
