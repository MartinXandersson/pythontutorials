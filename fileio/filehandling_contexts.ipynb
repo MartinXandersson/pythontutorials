{
 "cells": [
  {
   "cell_type": "code",
   "execution_count": null,
   "metadata": {},
   "outputs": [],
   "source": [
    "# file handling with contexts\n",
    "\n",
    "# switches:\n",
    "# r = read\n",
    "# a = append\n",
    "# w = write / overwrite\n",
    "# x = same as w, but if file exist already it errors out"
   ]
  },
  {
   "cell_type": "code",
   "execution_count": null,
   "metadata": {},
   "outputs": [],
   "source": [
    "mydatadir=\"/home/zokitools/mydata/\"\n",
    "myfilename=\"mytextfile.txt\"\n",
    "\n",
    "myfilepath=mydatadir+myfilename\n",
    "print(myfilepath)"
   ]
  },
  {
   "cell_type": "code",
   "execution_count": null,
   "metadata": {},
   "outputs": [],
   "source": [
    "with open(myfilepath, 'rt') as bugsbunny:\n",
    "    for line in bugsbunny:\n",
    "        print(line, end=\"\")"
   ]
  },
  {
   "cell_type": "code",
   "execution_count": null,
   "metadata": {},
   "outputs": [],
   "source": []
  }
 ],
 "metadata": {
  "kernelspec": {
   "display_name": "Python 3",
   "language": "python",
   "name": "python3"
  },
  "language_info": {
   "codemirror_mode": {
    "name": "ipython",
    "version": 3
   },
   "file_extension": ".py",
   "mimetype": "text/x-python",
   "name": "python",
   "nbconvert_exporter": "python",
   "pygments_lexer": "ipython3",
   "version": "3.8.2"
  }
 },
 "nbformat": 4,
 "nbformat_minor": 4
}
