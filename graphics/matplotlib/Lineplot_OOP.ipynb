{
 "cells": [
  {
   "cell_type": "code",
   "execution_count": null,
   "metadata": {},
   "outputs": [],
   "source": [
    "# how to work with line plots - OOP syntax\n",
    "import os"
   ]
  },
  {
   "cell_type": "code",
   "execution_count": null,
   "metadata": {},
   "outputs": [],
   "source": [
    "from matplotlib import pyplot as plt\n",
    "plt.style.use('seaborn-whitegrid')"
   ]
  },
  {
   "cell_type": "code",
   "execution_count": null,
   "metadata": {},
   "outputs": [],
   "source": [
    "dataset1=[0,1,2,3,4,5,6,7,8,9,10]\n",
    "timespentinoffice=[0,1,2,3,4,5,6,7,8,9,10]\n",
    "hungerlevel=[0,1,4,9,16,25,36,49,64,81,100]"
   ]
  },
  {
   "cell_type": "code",
   "execution_count": null,
   "metadata": {},
   "outputs": [],
   "source": [
    "# class and objects\n",
    "\n",
    "fig1 = plt.figure()\n",
    "print(type(fig1))\n",
    "\n",
    "x = timespentinoffice\n",
    "y = hungerlevel\n",
    "\n",
    "fig1ax = fig1.add_subplot(1,1,1)\n",
    "fig1ax.plot(x, y)\n",
    "fig1ax.set_xlabel(\"Time spent in the office\")\n",
    "fig1ax.set_ylabel(\"Hunger level\")\n",
    "fig1ax.set_title(\"Hungry games\")\n",
    "\n",
    "if(os.path.exists(\"/home/zokitools/mydata/hungrygames.png\")):\n",
    "    os.remove(\"/home/zokitools/mydata/hungrygames.png\")\n",
    "    \n",
    "plt.savefig(\"/home/zokitools/mydata/hungrygames.png\", format='png')\n",
    "plt.show()"
   ]
  },
  {
   "cell_type": "code",
   "execution_count": null,
   "metadata": {},
   "outputs": [],
   "source": [
    "bananachart = plt.figure()\n",
    "bananachartax = bananachart.add_subplot(1,1,1)\n",
    "bananachartax.plot(x,y)\n",
    "bananachartax.set_xlabel(\"Time spent in the office\")\n",
    "bananachartax.set_ylabel(\"y-axis\")\n",
    "bananachartax.set_title(\"Title\")\n",
    "plt.show()"
   ]
  },
  {
   "cell_type": "code",
   "execution_count": null,
   "metadata": {},
   "outputs": [],
   "source": [
    "# If you have multiple chart and you want to change the title \n",
    "\n",
    "fig1ax.set_title(\"My new title\")\n",
    "fig1"
   ]
  },
  {
   "cell_type": "code",
   "execution_count": null,
   "metadata": {},
   "outputs": [],
   "source": [
    "fig2 = plt.figure()\n",
    "fig2ax1 = fig2.add_subplot(1,2,1)\n",
    "fig2ax1.plot(timespentinoffice, hungerlevel)\n",
    "fig2ax1.set_xlabel(\"Time spent in the office\")\n",
    "fig2ax1.set_ylabel(\"y-axis\")\n",
    "fig2ax1.set_title(\"Title\")\n",
    "fig2ax2 = fig2.add_subplot(1,2,2)\n",
    "fig2ax2.plot(dataset1, timespentinoffice)\n",
    "fig2ax2.set_xlabel(\"Time spent in the office\")\n",
    "fig2ax2.set_ylabel(\"y-axis\")\n",
    "fig2ax2.set_title(\"Title\")\n",
    "fig2.tight_layout(pad=5)\n",
    "plt.show()"
   ]
  },
  {
   "cell_type": "code",
   "execution_count": null,
   "metadata": {},
   "outputs": [],
   "source": [
    "fig3,fig3ax = plt.subplots(4)\n",
    "fig3ax[0].plot(dataset1, timespentinoffice)\n",
    "fig3ax[1].plot(timespentinoffice, hungerlevel)\n",
    "fig3ax[2].plot(dataset1, hungerlevel)\n",
    "fig3ax[3].plot(hungerlevel, dataset1)\n",
    "plt.show()"
   ]
  },
  {
   "cell_type": "code",
   "execution_count": null,
   "metadata": {},
   "outputs": [],
   "source": [
    "fig4,fig4ax = plt.subplots(4, figsize=(14,14))\n",
    "fig4ax[0].plot(dataset1, timespentinoffice, linestyle=\":\", color='red')\n",
    "fig4ax[0].set_title(\"A TITLE\")\n",
    "fig4ax[1].plot(timespentinoffice, hungerlevel, linestyle=\":\", color='blue')\n",
    "fig4ax[2].plot(dataset1, hungerlevel, linestyle=\"-\")\n",
    "fig4ax[3].plot(hungerlevel, dataset1, linestyle=\"-.\")\n",
    "fig4.suptitle(\"A TITLE FOR ALL 4 CHARTS\")\n",
    "\n",
    "if(os.path.exists(\"/home/zokitools/mydata/fourchartplot.png\")):\n",
    "    os.remove(\"/home/zokitools/mydata/fourchartplot.png\")\n",
    "\n",
    "plt.savefig(\"/home/zokitools/mydata/fourchartplot.png\", format='png')\n",
    "plt.show()"
   ]
  },
  {
   "cell_type": "code",
   "execution_count": null,
   "metadata": {},
   "outputs": [],
   "source": [
    "# multiple lines in one fig\n",
    "\n",
    "fig5,fig5ax = plt.subplots(1, figsize=(5,5))\n",
    "fig5ax.plot(dataset1, timespentinoffice, linestyle=\":\", color='red', label='liner')\n",
    "fig5ax.plot(timespentinoffice, hungerlevel, linestyle=\"-\", color='green', label='exp')\n",
    "fig5.tight_layout(pad=3)\n",
    "plt.legend()\n",
    "\n",
    "if(os.path.exists(\"/home/zokitools/mydata/legendplot.png\")):\n",
    "    os.remove(\"/home/zokitools/mydata/legendplot.png\")\n",
    "\n",
    "plt.savefig(\"/home/zokitools/mydata/legendplot.png\", format='png')\n",
    "plt.show()"
   ]
  },
  {
   "cell_type": "code",
   "execution_count": null,
   "metadata": {},
   "outputs": [],
   "source": []
  }
 ],
 "metadata": {
  "kernelspec": {
   "display_name": "Python 3",
   "language": "python",
   "name": "python3"
  },
  "language_info": {
   "codemirror_mode": {
    "name": "ipython",
    "version": 3
   },
   "file_extension": ".py",
   "mimetype": "text/x-python",
   "name": "python",
   "nbconvert_exporter": "python",
   "pygments_lexer": "ipython3",
   "version": "3.8.2"
  }
 },
 "nbformat": 4,
 "nbformat_minor": 4
}
